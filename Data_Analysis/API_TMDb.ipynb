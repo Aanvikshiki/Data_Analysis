{
 "cells": [
  {
   "cell_type": "markdown",
   "id": "e8f05953",
   "metadata": {},
   "source": [
    "## API TMDb "
   ]
  },
  {
   "cell_type": "markdown",
   "id": "43de30d6",
   "metadata": {},
   "source": [
    "#### A.  Search for movies in the “Comedy” genre released in the year 2000 or later. Retrieve the 300 most popular movies in this genre. The movies should be sorted from most popular to least popular."
   ]
  },
  {
   "cell_type": "code",
   "execution_count": 146,
   "id": "274ed8f2",
   "metadata": {},
   "outputs": [],
   "source": [
    "%run ./tmdb_keys.ipynb"
   ]
  },
  {
   "cell_type": "code",
   "execution_count": 147,
   "id": "655c4c58",
   "metadata": {},
   "outputs": [],
   "source": [
    "import requests\n",
    "import time\n",
    "import pandas as pd"
   ]
  },
  {
   "cell_type": "code",
   "execution_count": 148,
   "id": "16a46fe3",
   "metadata": {},
   "outputs": [],
   "source": [
    "def getData(pageNo):\n",
    "    url = \"https://api.themoviedb.org/3/discover/movie?api_key=\"+api_key+\\\n",
    "    \"&with_genres=Comedy\"+\\\n",
    "    \"&primary_release_date.gte=2000-01-01\"+\\\n",
    "    \"&sort_by=popularity.desc\"+\\\n",
    "    \"&page=\"+str(pageNo)\n",
    "    itr_cnt = 50\n",
    "    while(itr_cnt):\n",
    "        r=requests.get(url)\n",
    "        if(r.status_code == 200):\n",
    "            break\n",
    "        time.sleep(1)\n",
    "        itr_cnt = itr_cnt -1\n",
    "    movie_data = r.json()\n",
    "    movies=[]\n",
    "    for mv in movie_data['results']:\n",
    "        data = []\n",
    "        data.append(mv['id'])\n",
    "        data.append(mv['original_title'])\n",
    "        movies.append(data)\n",
    "    return movies"
   ]
  },
  {
   "cell_type": "code",
   "execution_count": 149,
   "id": "19f531ab",
   "metadata": {},
   "outputs": [
    {
     "data": {
      "text/plain": [
       "[[566525, 'Shang-Chi and the Legend of the Ten Rings'],\n",
       " [512195, 'Red Notice'],\n",
       " [580489, 'Venom: Let There Be Carnage'],\n",
       " [585245, 'Clifford the Big Red Dog'],\n",
       " [370172, 'No Time to Die']]"
      ]
     },
     "execution_count": 149,
     "metadata": {},
     "output_type": "execute_result"
    }
   ],
   "source": [
    "result=[]\n",
    "no_pages = 15 # 20 * 15 = 300\n",
    "for i in range(1,no_pages+1):\n",
    "    result += getData(i)\n",
    "result[:5]"
   ]
  },
  {
   "cell_type": "code",
   "execution_count": 150,
   "id": "a0356f82",
   "metadata": {},
   "outputs": [],
   "source": [
    "df1 = pd.DataFrame(result)\n",
    "df1.to_csv(\"movie_ID_name.csv\", index=False, header=None)"
   ]
  },
  {
   "cell_type": "markdown",
   "id": "82574f5c",
   "metadata": {},
   "source": [
    "####  B. For each of the 300 movies, use the API to find its 5 similar movies. If a movie has fewer than 5 similar movies, the API will return as many as it can find. Your code should be flexible to work with however many movies the API returns. "
   ]
  },
  {
   "cell_type": "code",
   "execution_count": 151,
   "id": "734d104d",
   "metadata": {},
   "outputs": [],
   "source": [
    "def simMovie(mov_id):\n",
    "    url = \"https://api.themoviedb.org/3/movie/\"+str(mov_id)+\\\n",
    "    \"/similar?api_key=\"+api_key+\\\n",
    "    \"&language=en-US\"+\\\n",
    "    \"&page=1\"\n",
    "    itr_cnt = 50\n",
    "    while(itr_cnt):\n",
    "        r_main=requests.get(url)\n",
    "        if(r_main.status_code == 200):\n",
    "            break\n",
    "        time.sleep(1)\n",
    "        itr_cnt = itr_cnt -1\n",
    "    sim_data = r_main.json()\n",
    "    sim_mov = []\n",
    "    if(len(sim_data['results']) > 5):\n",
    "        sim_data = sim_data['results'][:5]\n",
    "    else:\n",
    "        sim_data = sim_data['results']\n",
    "    sim_mov = [x['id'] for x in sim_data]\n",
    "    return sim_mov"
   ]
  },
  {
   "cell_type": "code",
   "execution_count": 152,
   "id": "2b40c66e",
   "metadata": {},
   "outputs": [
    {
     "data": {
      "text/plain": [
       "[[62764, 566525],\n",
       " [59859, 566525],\n",
       " [60304, 566525],\n",
       " [59440, 566525],\n",
       " [64328, 566525]]"
      ]
     },
     "execution_count": 152,
     "metadata": {},
     "output_type": "execute_result"
    }
   ],
   "source": [
    "result2=[]\n",
    "for main_mov_id in df1.loc[:,0]:\n",
    "    sim_mv = simMovie(main_mov_id)\n",
    "    for sub_mv_id in sim_mv:\n",
    "        if(sub_mv_id < main_mov_id):\n",
    "            result2.append([sub_mv_id,main_mov_id])\n",
    "        else:\n",
    "            result2.append([main_mov_id,sub_mv_id])\n",
    "result2[:5]"
   ]
  },
  {
   "cell_type": "code",
   "execution_count": 153,
   "id": "601dae08",
   "metadata": {},
   "outputs": [],
   "source": [
    "df2 = pd.DataFrame(result2)\n",
    "df2.drop_duplicates(keep='first',inplace=True)\n",
    "df2.to_csv(\"movie_ID_sim_movie_ID.csv\", index=False, header=None)"
   ]
  }
 ],
 "metadata": {
  "kernelspec": {
   "display_name": "Python 3 (ipykernel)",
   "language": "python",
   "name": "python3"
  },
  "language_info": {
   "codemirror_mode": {
    "name": "ipython",
    "version": 3
   },
   "file_extension": ".py",
   "mimetype": "text/x-python",
   "name": "python",
   "nbconvert_exporter": "python",
   "pygments_lexer": "ipython3",
   "version": "3.9.9"
  }
 },
 "nbformat": 4,
 "nbformat_minor": 5
}
